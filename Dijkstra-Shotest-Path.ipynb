{
 "cells": [
  {
   "cell_type": "markdown",
   "id": "9af2f0c1-ade6-4e8a-989f-a661bac76dc4",
   "metadata": {},
   "source": [
    "# Thuật toán tìm đường ngắn nhất Dijkstra"
   ]
  },
  {
   "cell_type": "markdown",
   "id": "05c41b5b-105e-4b78-836d-23e7a47ddb78",
   "metadata": {},
   "source": [
    "##### Graph và kết quả đối chiếu được lấy từ: https://www.programiz.com/dsa/dijkstra-algorithm"
   ]
  },
  {
   "cell_type": "markdown",
   "id": "f9a61ca6-34ae-4dd8-b7a0-6bb19b0798fd",
   "metadata": {},
   "source": [
    "Ý tưởng thực thi: Lặp từng bước từ điểm bắt đầu đến điểm cuối để tìm thời gian ngắn nhất đi đến các node. Từ kết quả thời gian ngắn nhất thu được, truy ngược quá trình từ điểm cuối để tìm đường đi ngắn nhất"
   ]
  },
  {
   "cell_type": "markdown",
   "id": "d67b5b59-92cb-4f55-bb42-d439cfd47bf1",
   "metadata": {},
   "source": [
    "Tạo mảng 2 chiều từ graph"
   ]
  },
  {
   "cell_type": "code",
   "execution_count": 94,
   "id": "94588586-8baf-457d-8e59-c9d20891acd5",
   "metadata": {},
   "outputs": [],
   "source": [
    "graph = [[0, 4, 4, 0, 0, 0],\n",
    "         [4, 0, 2, 0, 0, 0],\n",
    "         [4, 2, 0, 3, 1, 6],\n",
    "         [0, 0, 3, 0, 0, 2],\n",
    "         [0, 0, 1, 0, 0, 3],\n",
    "         [0, 0, 0, 2, 3, 0]]"
   ]
  },
  {
   "cell_type": "markdown",
   "id": "27232f8e-6fa3-421c-bfbb-38633dec88ca",
   "metadata": {},
   "source": [
    "Tạo hàm tìm node tiếp theo(node có giá trị nhỏ nhất) để áp dụng tạo list thời gian tối ưu"
   ]
  },
  {
   "cell_type": "code",
   "execution_count": 95,
   "id": "a1fe81fe-196b-49d1-af20-fa748f26822e",
   "metadata": {},
   "outputs": [],
   "source": [
    "def min_node_val(node_vals, visited_nodes):\n",
    "    min_val = float('inf')\n",
    "    min_index = -1\n",
    "\n",
    "    for i in range(len(node_vals)):\n",
    "        if node_vals[i] < min_val and i not in visited_nodes:\n",
    "            min_val = node_vals[i]\n",
    "            min_index = i\n",
    "\n",
    "    return min_index"
   ]
  },
  {
   "cell_type": "markdown",
   "id": "7c5691d7-2249-4fa1-ab48-438d94493fd5",
   "metadata": {},
   "source": [
    "Tạo hàm tìm node tiếp theo(node có giá trị nhỏ nhất) để áp dụng tạo list đường đi ngắn nhất"
   ]
  },
  {
   "cell_type": "code",
   "execution_count": 96,
   "id": "4adaa5a0-9384-4814-bc58-b1f22052f84b",
   "metadata": {},
   "outputs": [],
   "source": [
    "def find_min(index_list, val_list):\n",
    "    min_val = val_list[0]\n",
    "    min_index = index_list[0]\n",
    "    for i in range(len(val_list)):\n",
    "        if(val_list[i] < min_val):\n",
    "            min_val = val_list[i]\n",
    "            min_index = index_list[i]\n",
    "    return min_index"
   ]
  },
  {
   "cell_type": "markdown",
   "id": "dca08ac4-6019-46fd-a00b-6f5e1b862555",
   "metadata": {},
   "source": [
    "Hàm tìm list thời gian ngắn nhất để đi đến từng node"
   ]
  },
  {
   "cell_type": "code",
   "execution_count": 97,
   "id": "f4ad4d6c-4e11-4993-bae2-dbe426097926",
   "metadata": {},
   "outputs": [],
   "source": [
    "def min_time_to_nodes(graph, start_node):\n",
    "    node_vals = [float('inf')] * len(graph)\n",
    "    \n",
    "    node_vals[start_node] = 0\n",
    "\n",
    "    visited_nodes = []\n",
    "\n",
    "    for i in range(len(graph)):\n",
    "\n",
    "        current_node = min_node_val(node_vals, visited_nodes)\n",
    "\n",
    "        visited_nodes.append(current_node)\n",
    "\n",
    "        # distances from current node to other nodes\n",
    "        distances_from_current = graph[current_node]\n",
    "\n",
    "        for j in range(len(graph)):\n",
    "            if distances_from_current[j] != 0:\n",
    "\n",
    "                updated_node_val = node_vals[current_node] + distances_from_current[j]\n",
    "\n",
    "                if updated_node_val < node_vals[j]:\n",
    "                    node_vals[j] = updated_node_val\n",
    "    return node_vals"
   ]
  },
  {
   "cell_type": "markdown",
   "id": "a6f93045-9cb7-4f1e-b5f7-cb465275cb26",
   "metadata": {},
   "source": [
    "Hàm tìm list đường đi ngắn nhất để đi đến từng node"
   ]
  },
  {
   "cell_type": "code",
   "execution_count": 98,
   "id": "3178a4dc-8c64-4ca2-99f9-9c107f67fd73",
   "metadata": {},
   "outputs": [],
   "source": [
    "def min_path_to_end(min_time_list, start_node):\n",
    "    cont = True\n",
    "    current_node = graph[-1]\n",
    "    path = [len(graph) - 1]\n",
    "    while (cont == 1):\n",
    "        neibor_node_index = [i for i in range(len(current_node)) if current_node[i] > 0]\n",
    "        # print(neibor)\n",
    "        neibor_node_val = list(map(lambda index: min_time_list[index], neibor_node_index))\n",
    "        # print(neibor_val)\n",
    "        min_neibor = find_min(neibor_node_index, neibor_node_val)\n",
    "            \n",
    "        path.append(min_neibor)\n",
    "        current_node = graph[min_neibor]\n",
    "\n",
    "        if(min_neibor == start_node):\n",
    "            cont = False\n",
    "            break\n",
    "    return path[::-1]"
   ]
  },
  {
   "cell_type": "markdown",
   "id": "4e7d7695-5c3a-4fa6-a36c-dd711c3d236e",
   "metadata": {},
   "source": [
    "Áp dụng 2 hàm trên để tạo thuật toán tìm đường ngắn nhất"
   ]
  },
  {
   "cell_type": "code",
   "execution_count": 99,
   "id": "c6275319-6c85-4399-9fbb-ff8df8fa96f7",
   "metadata": {},
   "outputs": [],
   "source": [
    "def dijkstra_algorithm(graph, start_node):\n",
    "    if (start_node == len(graph) - 1):\n",
    "        print('You has already been at the destination!')\n",
    "        return\n",
    "    min_time_list = min_time_to_nodes(graph, start_node)\n",
    "\n",
    "    min_path_list = min_path_to_end(min_time_list, start_node)\n",
    "    print(f'Shortest path: {min_path_list}')\n",
    "    print(f'Min time to each node: {min_path_list}')"
   ]
  },
  {
   "cell_type": "markdown",
   "id": "41452c0b-0f38-4a1b-a03a-889c3bb3baa0",
   "metadata": {},
   "source": [
    "Test thử các kết quả"
   ]
  },
  {
   "cell_type": "code",
   "execution_count": 100,
   "id": "1d7e0d15-d493-4c96-8084-24bfce3c3813",
   "metadata": {
    "scrolled": true
   },
   "outputs": [
    {
     "name": "stdout",
     "output_type": "stream",
     "text": [
      "Shortest path: [0, 2, 4, 5]\n",
      "Min time to each node: [0, 2, 4, 5]\n"
     ]
    }
   ],
   "source": [
    "shortest_distances = dijkstra_algorithm(graph, 0)"
   ]
  },
  {
   "cell_type": "code",
   "execution_count": 101,
   "id": "5ae27d3c-e8c9-4b0c-b11c-add02c0a3e79",
   "metadata": {},
   "outputs": [
    {
     "name": "stdout",
     "output_type": "stream",
     "text": [
      "Shortest path: [1, 2, 4, 5]\n",
      "Min time to each node: [1, 2, 4, 5]\n"
     ]
    }
   ],
   "source": [
    "shortest_distances = dijkstra_algorithm(graph, 1)"
   ]
  },
  {
   "cell_type": "code",
   "execution_count": 102,
   "id": "7597f362-fa0f-4fed-abcf-8cd40ecd7400",
   "metadata": {},
   "outputs": [
    {
     "name": "stdout",
     "output_type": "stream",
     "text": [
      "You has already been at the destination!\n"
     ]
    }
   ],
   "source": [
    "shortest_distances = dijkstra_algorithm(graph, 5)"
   ]
  }
 ],
 "metadata": {
  "kernelspec": {
   "display_name": "Python 3 (ipykernel)",
   "language": "python",
   "name": "python3"
  },
  "language_info": {
   "codemirror_mode": {
    "name": "ipython",
    "version": 3
   },
   "file_extension": ".py",
   "mimetype": "text/x-python",
   "name": "python",
   "nbconvert_exporter": "python",
   "pygments_lexer": "ipython3",
   "version": "3.11.5"
  }
 },
 "nbformat": 4,
 "nbformat_minor": 5
}
